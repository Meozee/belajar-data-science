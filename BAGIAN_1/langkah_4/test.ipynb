{
 "cells": [
  {
   "cell_type": "markdown",
   "id": "a39e4730",
   "metadata": {},
   "source": [
    "Langkah 4: Menginstall Library dan Menjalankan JupyterLab\n",
    "4.1 Install Library Esensial\n",
    "Pastikan Anda masih berada di dalam Anaconda Prompt dan (datascience-env) aktif."
   ]
  },
  {
   "cell_type": "code",
   "execution_count": 2,
   "id": "8b9d3c6d",
   "metadata": {},
   "outputs": [
    {
     "name": "stdout",
     "output_type": "stream",
     "text": [
      "pandas version 2.2.3\n",
      "numpy version 2.1.3\n",
      "sklearn version 1.6.1\n",
      "\n",
      "Selamat! Lingkungan Data Science Anda Sudah Siap Digunakan!\n"
     ]
    }
   ],
   "source": [
    "import pandas as pd\n",
    "import numpy as np \n",
    "import sklearn\n",
    "\n",
    "print(\"pandas version\", pd.__version__)\n",
    "print(\"numpy version\", np.__version__)\n",
    "print(\"sklearn version\", sklearn.__version__)   \n",
    "\n",
    "print(\"\\nSelamat! Lingkungan Data Science Anda Sudah Siap Digunakan!\")"
   ]
  },
  {
   "cell_type": "markdown",
   "id": "9c4364b8",
   "metadata": {},
   "source": []
  },
  {
   "cell_type": "code",
   "execution_count": null,
   "id": "e9727357",
   "metadata": {},
   "outputs": [],
   "source": []
  }
 ],
 "metadata": {
  "kernelspec": {
   "display_name": "Python 3",
   "language": "python",
   "name": "python3"
  },
  "language_info": {
   "codemirror_mode": {
    "name": "ipython",
    "version": 3
   },
   "file_extension": ".py",
   "mimetype": "text/x-python",
   "name": "python",
   "nbconvert_exporter": "python",
   "pygments_lexer": "ipython3",
   "version": "3.12.6"
  }
 },
 "nbformat": 4,
 "nbformat_minor": 5
}
