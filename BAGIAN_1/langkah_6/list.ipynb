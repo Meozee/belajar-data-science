{
 "cells": [
  {
   "cell_type": "markdown",
   "id": "a8707f38",
   "metadata": {},
   "source": [
    "Bagus sekali! Kode yang Anda tulis sudah benar dan Anda berhasil mempraktikkan pembuatan variabel dengan baik. Saya suka kreativitasnya dengan \"sedang belajar menangkap python\" 😄. Anda juga sudah lancar menggunakan f-string untuk membuat kalimat yang dinamis.\n",
    "\n",
    "Ini menunjukkan Anda sudah paham konsep dasar variabel dan tipe data. Fondasi ini sangat penting.\n",
    "\n",
    "Sekarang, mari kita naik satu tingkat. Sesuai blueprint kita, setelah mengenal \"kotak\" tunggal (variabel), kita akan belajar tentang \"lemari\" atau \"rak buku\" yang bisa menampung banyak kotak sekaligus. Inilah yang disebut Struktur Data.\n",
    "\n",
    "Langkah 6: Struktur Data Fundamental - List & Dictionary\n",
    "Dari sekian banyak struktur data di Python, ada dua yang akan menjadi sahabat terbaik Anda di dunia data science: List dan Dictionary.\n",
    "\n",
    "1. List (Daftar)\n",
    "Apa itu? Sebuah kumpulan data yang terurut. Anggap saja seperti daftar belanjaan atau daftar absen kelas. Urutannya penting.\n",
    "Sintaks: Dibuat menggunakan kurung siku [ ], dengan setiap item dipisahkan oleh koma.\n",
    "Kapan digunakan? Ketika Anda memiliki sekumpulan data yang sejenis dan urutannya berarti (misalnya: data penjualan harian, daftar nama murid, urutan langkah proses)."
   ]
  },
  {
   "cell_type": "code",
   "execution_count": 3,
   "id": "e82228f9",
   "metadata": {},
   "outputs": [
    {
     "name": "stdout",
     "output_type": "stream",
     "text": [
      "Kota pertama: bekasi\n",
      "Umur ketiga: 21\n",
      "List kota setelah append: ['bekasi', 'bandung', 'subang', 'cimahi']\n",
      "List umur setelah append: [19, 20, 21, 22]\n"
     ]
    }
   ],
   "source": [
    "# String\n",
    "kota_di_jabar = [\"bekasi\", \"bandung\", \"subang\"]\n",
    "\n",
    "# Integer\n",
    "umur_murid = [19, 20, 21]\n",
    "\n",
    "# Mengakses data dalam list\n",
    "# PENTING: Index di Python dimulai dari 0!\n",
    "kota_pertama = kota_di_jabar[0] \n",
    "umur_ketiga = umur_murid[2]    \n",
    "\n",
    "kota_di_jabar.append(\"cimahi\")  # Menambahkan kota baru ke list\n",
    "umur_murid.append(22)  # Menambahkan umur baru ke list\n",
    "\n",
    "# Tambahkan print untuk melihat hasil\n",
    "print(\"Kota pertama:\", kota_pertama)\n",
    "print(\"Umur ketiga:\", umur_ketiga)\n",
    "print(\"List kota setelah append:\", kota_di_jabar)\n",
    "print(\"List umur setelah append:\", umur_murid)"
   ]
  },
  {
   "cell_type": "markdown",
   "id": "c12f8b64",
   "metadata": {},
   "source": [
    ". Dictionary (Kamus)\n",
    "Apa itu? Sebuah kumpulan data yang disimpan dalam format pasangan kunci:nilai (key:value). Tidak terurut seperti list, tapi setiap nilai bisa diakses langsung menggunakan kunci-nya yang unik. Anggap saja seperti kamus sungguhan (kata:definisi) atau kontak di ponsel Anda (nama:nomor telepon).\n",
    "Sintaks: Dibuat menggunakan kurung kurawal { }.\n",
    "Kapan digunakan? Ketika Anda ingin menyimpan atribut dari sebuah objek tunggal. Sangat cocok untuk merepresentasikan satu baris data."
   ]
  },
  {
   "cell_type": "code",
   "execution_count": 8,
   "id": "1377d36a",
   "metadata": {},
   "outputs": [
    {
     "name": "stdout",
     "output_type": "stream",
     "text": [
      "Nilai Miko: 90\n",
      "Alamat Miko: Kota Bandung, Provinsi Jawa Barat\n"
     ]
    }
   ],
   "source": [
    "data_miko = {\n",
    "    \"nama\": \"Miko\",\n",
    "    \"umur\": 20,\n",
    "    \"hobi\": [\"membaca\", \"bermain game\"],\n",
    "    \"nilai_ujian\": 90,\n",
    "    \"alamat\": {\n",
    "        \"kota\": \"Bandung\",\n",
    "        \"provinsi\": \"Jawa Barat\"\n",
    "    },\n",
    "    \"is_lulus\": True\n",
    "}\n",
    "\n",
    "nilai_miko = data_miko[\"nilai_ujian\"]\n",
    "asal_miko = data_miko[\"alamat\"][\"kota\"]  # Mengakses kota saja, bukan kota[\"provinsi\"]\n",
    "\n",
    "# Menampilkan hasil\n",
    "print(\"Nilai Miko:\", nilai_miko)\n",
    "print(\"Alamat Miko: Kota {}, Provinsi {}\".format(data_miko[\"alamat\"][\"kota\"], data_miko[\"alamat\"][\"provinsi\"]))"
   ]
  }
 ],
 "metadata": {
  "kernelspec": {
   "display_name": "Python 3",
   "language": "python",
   "name": "python3"
  },
  "language_info": {
   "codemirror_mode": {
    "name": "ipython",
    "version": 3
   },
   "file_extension": ".py",
   "mimetype": "text/x-python",
   "name": "python",
   "nbconvert_exporter": "python",
   "pygments_lexer": "ipython3",
   "version": "3.12.6"
  }
 },
 "nbformat": 4,
 "nbformat_minor": 5
}
