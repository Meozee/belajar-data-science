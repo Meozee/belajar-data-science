{
 "cells": [
  {
   "cell_type": "markdown",
   "id": "20c8de6e",
   "metadata": {},
   "source": [
    "Integer (int): Bilangan bulat. Digunakan untuk menghitung sesuatu yang tidak bisa dibagi (misal: jumlah orang, jumlah barang).\n",
    "Contoh: jumlah_apel = 10\n",
    "Float (float): Bilangan desimal. Digunakan untuk mengukur sesuatu yang bisa memiliki koma (misal: harga, tinggi badan, suhu).\n",
    "Contoh: harga_kopi = 22500.50\n",
    "String (str): Teks. Apa pun yang berada di dalam tanda kutip (\" atau '). Digunakan untuk menyimpan nama, alamat, kalimat, dll.\n",
    "Contoh: nama_kota = \"Bekasi\"\n",
    "Boolean (bool): Hanya memiliki dua nilai: True (Benar) atau False (Salah). Sangat penting untuk membuat keputusan dalam kode.\n",
    "Contoh: apakah_hujan = False"
   ]
  },
  {
   "cell_type": "code",
   "execution_count": null,
   "id": "dbc67974",
   "metadata": {},
   "outputs": [
    {
     "name": "stdout",
     "output_type": "stream",
     "text": [
      "nama Murid:miko\n",
      "Jumlah Murid: 30\n",
      "Nilai Ujian: 85.5\n",
      "Pesan: sedang belajar menangkap python\n",
      "Apakah Murid Lulus: True\n",
      "Apakah Murid Sedang Sibuk: False\n",
      "miko sedang belajar menangkap python dan mendapatkan nilai nilai 85.5 dan jumlah murid 30. Apakah dia lulus? True. Sedang sibuk? False.\n"
     ]
    }
   ],
   "source": [
    "#integer \n",
    "jumblah_murid = 30\n",
    "\n",
    "#float\n",
    "nilai_ujian = 85.5\n",
    "\n",
    "#string \n",
    "nama_depan = \"miko\"\n",
    "#bolean\n",
    "is_lulus = True\n",
    "sedang_sibuk = False\n",
    "\n",
    "print(f\"nama Murid:{nama_depan}\")\n",
    "print(f\"Jumlah Murid: {jumblah_murid}\")\n",
    "print(f\"Nilai Ujian: {nilai_ujian}\")\n",
    "print(f\"Pesan: {pesan}\")\n",
    "print(f\"Apakah Murid Lulus: {is_lulus}\")\n",
    "print(f\"Apakah Murid Sedang Sibuk: {sedang_sibuk}\")\n",
    "\n",
    "kalimat_lengkap = f\"{nama_depan} {pesan} dan mendapatkan nilai nilai {nilai_ujian} dan jumlah murid {jumblah_murid}. Apakah dia lulus? {is_lulus}. Sedang sibuk? {sedang_sibuk}.\"\n",
    "print(kalimat_lengkap)"
   ]
  },
  {
   "cell_type": "code",
   "execution_count": null,
   "id": "3d45676c",
   "metadata": {},
   "outputs": [],
   "source": []
  }
 ],
 "metadata": {
  "kernelspec": {
   "display_name": "Python 3",
   "language": "python",
   "name": "python3"
  },
  "language_info": {
   "codemirror_mode": {
    "name": "ipython",
    "version": 3
   },
   "file_extension": ".py",
   "mimetype": "text/x-python",
   "name": "python",
   "nbconvert_exporter": "python",
   "pygments_lexer": "ipython3",
   "version": "3.12.6"
  }
 },
 "nbformat": 4,
 "nbformat_minor": 5
}
